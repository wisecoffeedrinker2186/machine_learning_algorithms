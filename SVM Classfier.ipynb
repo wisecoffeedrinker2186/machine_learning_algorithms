{
 "cells": [
  {
   "cell_type": "code",
   "execution_count": 5,
   "id": "76a73505",
   "metadata": {},
   "outputs": [
    {
     "name": "stdout",
     "output_type": "stream",
     "text": [
      "[-5.40431955e+15  3.37769972e+15 -2.70215978e+15  6.75539944e+14]\n"
     ]
    }
   ],
   "source": [
    "import numpy as np\n",
    "from scipy import linalg\n",
    "import sympy as sp\n",
    "\n",
    "A = np.array([[5,3,-5,5], \n",
    "              [3,5,1,3], \n",
    "              [-5,1,10,-5],\n",
    "              [-1,-1,1,1]])\n",
    "y = np.array([1,1,1,0])\n",
    "\n",
    "x = np.linalg.inv(A).dot(y)\n",
    "print(x)\n"
   ]
  },
  {
   "cell_type": "code",
   "execution_count": 19,
   "id": "7e719e44",
   "metadata": {},
   "outputs": [
    {
     "data": {
      "text/plain": [
       "SVC(C=1, kernel='linear')"
      ]
     },
     "execution_count": 19,
     "metadata": {},
     "output_type": "execute_result"
    }
   ],
   "source": [
    "import numpy as np\n",
    "from sklearn.svm import SVC\n",
    "\n",
    "X = np.array([[1,2],[-1,2],[3,1],[-1,-2]] )\n",
    "y = np.array([-1,-1, 1, 1])\n",
    "\n",
    "clf = SVC(C = 1, kernel = 'linear')\n",
    "clf.fit(X, y) "
   ]
  },
  {
   "cell_type": "code",
   "execution_count": 20,
   "id": "39552284",
   "metadata": {},
   "outputs": [
    {
     "data": {
      "text/plain": [
       "{'C': 1,\n",
       " 'break_ties': False,\n",
       " 'cache_size': 200,\n",
       " 'class_weight': None,\n",
       " 'coef0': 0.0,\n",
       " 'decision_function_shape': 'ovr',\n",
       " 'degree': 3,\n",
       " 'gamma': 'scale',\n",
       " 'kernel': 'linear',\n",
       " 'max_iter': -1,\n",
       " 'probability': False,\n",
       " 'random_state': None,\n",
       " 'shrinking': True,\n",
       " 'tol': 0.001,\n",
       " 'verbose': False}"
      ]
     },
     "execution_count": 20,
     "metadata": {},
     "output_type": "execute_result"
    }
   ],
   "source": [
    "clf.get_params(deep=True)"
   ]
  },
  {
   "cell_type": "code",
   "execution_count": 21,
   "id": "4baef150",
   "metadata": {},
   "outputs": [
    {
     "name": "stdout",
     "output_type": "stream",
     "text": [
      "yi * alpha_i: \n",
      " [[-0.499944   0.3999552  0.0999888]]\n",
      "Number of support vectors of each class: [1 2]\n"
     ]
    }
   ],
   "source": [
    "print('yi * alpha_i: \\n', clf.dual_coef_)\n",
    "print('Number of support vectors of each class:', clf.n_support_)"
   ]
  },
  {
   "cell_type": "code",
   "execution_count": 22,
   "id": "71f29522",
   "metadata": {},
   "outputs": [],
   "source": [
    "alphas = np.abs(clf.dual_coef_)"
   ]
  },
  {
   "cell_type": "code",
   "execution_count": 23,
   "id": "990eceb9",
   "metadata": {},
   "outputs": [],
   "source": [
    "labels = np.sign(clf.dual_coef_)"
   ]
  },
  {
   "cell_type": "code",
   "execution_count": 24,
   "id": "bc6a20aa",
   "metadata": {},
   "outputs": [
    {
     "name": "stdout",
     "output_type": "stream",
     "text": [
      "label =  [-1.  1.  1.] \t alpha=  [0.499944  0.3999552 0.0999888]\n"
     ]
    }
   ],
   "source": [
    "for i in range(len(alphas)):\n",
    "    print('label = ',labels[i],\"\\t\",'alpha= ',alphas[i])"
   ]
  },
  {
   "cell_type": "code",
   "execution_count": 25,
   "id": "61d39711",
   "metadata": {},
   "outputs": [
    {
     "data": {
      "text/plain": [
       "-0.49994400000000006"
      ]
     },
     "execution_count": 25,
     "metadata": {},
     "output_type": "execute_result"
    }
   ],
   "source": [
    "sum_values = 0  \n",
    "for i in range(len(alphas)):\n",
    "    sum_values += labels[0][i] * alphas[0][i]\n",
    "sum_values"
   ]
  },
  {
   "cell_type": "code",
   "execution_count": 26,
   "id": "fbf55375",
   "metadata": {},
   "outputs": [
    {
     "data": {
      "text/plain": [
       "-1.0"
      ]
     },
     "execution_count": 26,
     "metadata": {},
     "output_type": "execute_result"
    }
   ],
   "source": [
    "labels[0][0]"
   ]
  },
  {
   "cell_type": "code",
   "execution_count": 27,
   "id": "37a3ad1a",
   "metadata": {},
   "outputs": [
    {
     "data": {
      "text/plain": [
       "0.49994400000000006"
      ]
     },
     "execution_count": 27,
     "metadata": {},
     "output_type": "execute_result"
    }
   ],
   "source": [
    "alphas[0][0]"
   ]
  },
  {
   "cell_type": "code",
   "execution_count": 28,
   "id": "6c58c5f4",
   "metadata": {},
   "outputs": [
    {
     "data": {
      "text/plain": [
       "array([[-0.499944 ],\n",
       "       [ 0.       ],\n",
       "       [ 0.3999552],\n",
       "       [ 0.0999888]])"
      ]
     },
     "execution_count": 28,
     "metadata": {},
     "output_type": "execute_result"
    }
   ],
   "source": [
    "np.insert(clf.dual_coef_, 1, 0).reshape(-1,1)"
   ]
  },
  {
   "cell_type": "code",
   "execution_count": 29,
   "id": "5a740dcf",
   "metadata": {},
   "outputs": [
    {
     "data": {
      "text/plain": [
       "array([[0.499944 , 0.3999552, 0.0999888]])"
      ]
     },
     "execution_count": 29,
     "metadata": {},
     "output_type": "execute_result"
    }
   ],
   "source": [
    "alphas"
   ]
  },
  {
   "cell_type": "code",
   "execution_count": 31,
   "id": "8eacf933",
   "metadata": {},
   "outputs": [
    {
     "name": "stdout",
     "output_type": "stream",
     "text": [
      "[ 0.5999328 -0.7999104]\n"
     ]
    }
   ],
   "source": [
    "print(np.sum(((X)*(np.insert(clf.dual_coef_, 1, 0).reshape(-1,1))),axis=0))"
   ]
  }
 ],
 "metadata": {
  "kernelspec": {
   "display_name": "Python 3 (ipykernel)",
   "language": "python",
   "name": "python3"
  },
  "language_info": {
   "codemirror_mode": {
    "name": "ipython",
    "version": 3
   },
   "file_extension": ".py",
   "mimetype": "text/x-python",
   "name": "python",
   "nbconvert_exporter": "python",
   "pygments_lexer": "ipython3",
   "version": "3.8.17"
  }
 },
 "nbformat": 4,
 "nbformat_minor": 5
}
